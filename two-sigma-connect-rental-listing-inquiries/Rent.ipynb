{
 "cells": [
  {
   "cell_type": "code",
   "execution_count": 1,
   "metadata": {},
   "outputs": [
    {
     "name": "stdout",
     "output_type": "stream",
     "text": [
      "(49352, 15)\n"
     ]
    },
    {
     "data": {
      "text/html": [
       "<div>\n",
       "<style scoped>\n",
       "    .dataframe tbody tr th:only-of-type {\n",
       "        vertical-align: middle;\n",
       "    }\n",
       "\n",
       "    .dataframe tbody tr th {\n",
       "        vertical-align: top;\n",
       "    }\n",
       "\n",
       "    .dataframe thead th {\n",
       "        text-align: right;\n",
       "    }\n",
       "</style>\n",
       "<table border=\"1\" class=\"dataframe\">\n",
       "  <thead>\n",
       "    <tr style=\"text-align: right;\">\n",
       "      <th></th>\n",
       "      <th>bathrooms</th>\n",
       "      <th>bedrooms</th>\n",
       "      <th>building_id</th>\n",
       "      <th>created</th>\n",
       "      <th>description</th>\n",
       "      <th>display_address</th>\n",
       "      <th>features</th>\n",
       "      <th>latitude</th>\n",
       "      <th>listing_id</th>\n",
       "      <th>longitude</th>\n",
       "      <th>manager_id</th>\n",
       "      <th>photos</th>\n",
       "      <th>price</th>\n",
       "      <th>street_address</th>\n",
       "      <th>interest_level</th>\n",
       "    </tr>\n",
       "  </thead>\n",
       "  <tbody>\n",
       "    <tr>\n",
       "      <th>0</th>\n",
       "      <td>1.5</td>\n",
       "      <td>3</td>\n",
       "      <td>53a5b119ba8f7b61d4e010512e0dfc85</td>\n",
       "      <td>2016-06-24 07:54:24</td>\n",
       "      <td>A Brand New 3 Bedroom 1.5 bath ApartmentEnjoy ...</td>\n",
       "      <td>Metropolitan Avenue</td>\n",
       "      <td>[]</td>\n",
       "      <td>40.7145</td>\n",
       "      <td>7211212</td>\n",
       "      <td>-73.9425</td>\n",
       "      <td>5ba989232d0489da1b5f2c45f6688adc</td>\n",
       "      <td>['https://photos.renthop.com/2/7211212_1ed4542...</td>\n",
       "      <td>3000</td>\n",
       "      <td>792 Metropolitan Avenue</td>\n",
       "      <td>medium</td>\n",
       "    </tr>\n",
       "    <tr>\n",
       "      <th>1</th>\n",
       "      <td>1.0</td>\n",
       "      <td>2</td>\n",
       "      <td>c5c8a357cba207596b04d1afd1e4f130</td>\n",
       "      <td>2016-06-12 12:19:27</td>\n",
       "      <td></td>\n",
       "      <td>Columbus Avenue</td>\n",
       "      <td>['Doorman', 'Elevator', 'Fitness Center', 'Cat...</td>\n",
       "      <td>40.7947</td>\n",
       "      <td>7150865</td>\n",
       "      <td>-73.9667</td>\n",
       "      <td>7533621a882f71e25173b27e3139d83d</td>\n",
       "      <td>['https://photos.renthop.com/2/7150865_be3306c...</td>\n",
       "      <td>5465</td>\n",
       "      <td>808 Columbus Avenue</td>\n",
       "      <td>low</td>\n",
       "    </tr>\n",
       "  </tbody>\n",
       "</table>\n",
       "</div>"
      ],
      "text/plain": [
       "   bathrooms  bedrooms                       building_id              created  \\\n",
       "0        1.5         3  53a5b119ba8f7b61d4e010512e0dfc85  2016-06-24 07:54:24   \n",
       "1        1.0         2  c5c8a357cba207596b04d1afd1e4f130  2016-06-12 12:19:27   \n",
       "\n",
       "                                         description      display_address  \\\n",
       "0  A Brand New 3 Bedroom 1.5 bath ApartmentEnjoy ...  Metropolitan Avenue   \n",
       "1                                                         Columbus Avenue   \n",
       "\n",
       "                                            features  latitude  listing_id  \\\n",
       "0                                                 []   40.7145     7211212   \n",
       "1  ['Doorman', 'Elevator', 'Fitness Center', 'Cat...   40.7947     7150865   \n",
       "\n",
       "   longitude                        manager_id  \\\n",
       "0   -73.9425  5ba989232d0489da1b5f2c45f6688adc   \n",
       "1   -73.9667  7533621a882f71e25173b27e3139d83d   \n",
       "\n",
       "                                              photos  price  \\\n",
       "0  ['https://photos.renthop.com/2/7211212_1ed4542...   3000   \n",
       "1  ['https://photos.renthop.com/2/7150865_be3306c...   5465   \n",
       "\n",
       "            street_address interest_level  \n",
       "0  792 Metropolitan Avenue         medium  \n",
       "1      808 Columbus Avenue            low  "
      ]
     },
     "execution_count": 1,
     "metadata": {},
     "output_type": "execute_result"
    }
   ],
   "source": [
    "#Predict NYC Rent prices (data from Kaggle)\n",
    "\n",
    "import pandas as pd\n",
    "df = pd.read_csv(\"rent.csv\")\n",
    "print(df.shape) # print rows, columns\n",
    "df.head(2)       # dump first 2 rows\n"
   ]
  },
  {
   "cell_type": "code",
   "execution_count": 2,
   "metadata": {},
   "outputs": [],
   "source": [
    "import matplotlib.pyplot as plt\n",
    "%matplotlib inline"
   ]
  },
  {
   "cell_type": "code",
   "execution_count": 3,
   "metadata": {},
   "outputs": [],
   "source": [
    "# import pandas as pd # Import the library and give a short alias: pd\n",
    "# #run prep-rent\n",
    "# rent = pd.read_csv(\"rent-ideal.csv\")"
   ]
  },
  {
   "cell_type": "code",
   "execution_count": 4,
   "metadata": {},
   "outputs": [],
   "source": [
    "# rent.head()"
   ]
  },
  {
   "cell_type": "code",
   "execution_count": 5,
   "metadata": {},
   "outputs": [],
   "source": [
    "# rent.T"
   ]
  },
  {
   "cell_type": "code",
   "execution_count": 6,
   "metadata": {},
   "outputs": [],
   "source": [
    "df_num = df[['bathrooms', 'bedrooms', 'longitude', 'latitude', 'price']]"
   ]
  },
  {
   "cell_type": "code",
   "execution_count": 7,
   "metadata": {},
   "outputs": [
    {
     "data": {
      "text/html": [
       "<div>\n",
       "<style scoped>\n",
       "    .dataframe tbody tr th:only-of-type {\n",
       "        vertical-align: middle;\n",
       "    }\n",
       "\n",
       "    .dataframe tbody tr th {\n",
       "        vertical-align: top;\n",
       "    }\n",
       "\n",
       "    .dataframe thead th {\n",
       "        text-align: right;\n",
       "    }\n",
       "</style>\n",
       "<table border=\"1\" class=\"dataframe\">\n",
       "  <thead>\n",
       "    <tr style=\"text-align: right;\">\n",
       "      <th></th>\n",
       "      <th>bathrooms</th>\n",
       "      <th>bedrooms</th>\n",
       "      <th>longitude</th>\n",
       "      <th>latitude</th>\n",
       "      <th>price</th>\n",
       "    </tr>\n",
       "  </thead>\n",
       "  <tbody>\n",
       "    <tr>\n",
       "      <th>0</th>\n",
       "      <td>1.5</td>\n",
       "      <td>3</td>\n",
       "      <td>-73.9425</td>\n",
       "      <td>40.7145</td>\n",
       "      <td>3000</td>\n",
       "    </tr>\n",
       "    <tr>\n",
       "      <th>1</th>\n",
       "      <td>1.0</td>\n",
       "      <td>2</td>\n",
       "      <td>-73.9667</td>\n",
       "      <td>40.7947</td>\n",
       "      <td>5465</td>\n",
       "    </tr>\n",
       "    <tr>\n",
       "      <th>2</th>\n",
       "      <td>1.0</td>\n",
       "      <td>1</td>\n",
       "      <td>-74.0018</td>\n",
       "      <td>40.7388</td>\n",
       "      <td>2850</td>\n",
       "    </tr>\n",
       "    <tr>\n",
       "      <th>3</th>\n",
       "      <td>1.0</td>\n",
       "      <td>1</td>\n",
       "      <td>-73.9677</td>\n",
       "      <td>40.7539</td>\n",
       "      <td>3275</td>\n",
       "    </tr>\n",
       "    <tr>\n",
       "      <th>4</th>\n",
       "      <td>1.0</td>\n",
       "      <td>4</td>\n",
       "      <td>-73.9493</td>\n",
       "      <td>40.8241</td>\n",
       "      <td>3350</td>\n",
       "    </tr>\n",
       "  </tbody>\n",
       "</table>\n",
       "</div>"
      ],
      "text/plain": [
       "   bathrooms  bedrooms  longitude  latitude  price\n",
       "0        1.5         3   -73.9425   40.7145   3000\n",
       "1        1.0         2   -73.9667   40.7947   5465\n",
       "2        1.0         1   -74.0018   40.7388   2850\n",
       "3        1.0         1   -73.9677   40.7539   3275\n",
       "4        1.0         4   -73.9493   40.8241   3350"
      ]
     },
     "execution_count": 7,
     "metadata": {},
     "output_type": "execute_result"
    }
   ],
   "source": [
    "df_num.head()"
   ]
  },
  {
   "cell_type": "code",
   "execution_count": 8,
   "metadata": {},
   "outputs": [
    {
     "data": {
      "text/plain": [
       "bathrooms    False\n",
       "bedrooms     False\n",
       "longitude    False\n",
       "latitude     False\n",
       "price        False\n",
       "dtype: bool"
      ]
     },
     "execution_count": 8,
     "metadata": {},
     "output_type": "execute_result"
    }
   ],
   "source": [
    "df_num.isnull().any()"
   ]
  },
  {
   "cell_type": "code",
   "execution_count": 9,
   "metadata": {},
   "outputs": [],
   "source": [
    "#Training and evaluating an initial model\n",
    "X_train = df_num.drop('price', axis=1)\n",
    "y_train = df_num['price']"
   ]
  },
  {
   "cell_type": "code",
   "execution_count": 10,
   "metadata": {},
   "outputs": [],
   "source": [
    "from sklearn.ensemble import RandomForestRegressor\n",
    "rf = RandomForestRegressor(n_estimators=100,\n",
    "                           n_jobs=-1)"
   ]
  },
  {
   "cell_type": "code",
   "execution_count": 11,
   "metadata": {},
   "outputs": [
    {
     "data": {
      "text/plain": [
       "RandomForestRegressor(bootstrap=True, criterion='mse', max_depth=None,\n",
       "           max_features='auto', max_leaf_nodes=None,\n",
       "           min_impurity_decrease=0.0, min_impurity_split=None,\n",
       "           min_samples_leaf=1, min_samples_split=2,\n",
       "           min_weight_fraction_leaf=0.0, n_estimators=100, n_jobs=-1,\n",
       "           oob_score=False, random_state=None, verbose=0, warm_start=False)"
      ]
     },
     "execution_count": 11,
     "metadata": {},
     "output_type": "execute_result"
    }
   ],
   "source": [
    "rf.fit(X_train, y_train)"
   ]
  },
  {
   "cell_type": "code",
   "execution_count": 12,
   "metadata": {},
   "outputs": [],
   "source": [
    "r2 = rf.score(X_train, y_train)"
   ]
  },
  {
   "cell_type": "code",
   "execution_count": 13,
   "metadata": {},
   "outputs": [
    {
     "data": {
      "text/plain": [
       "0.8296216838961417"
      ]
     },
     "execution_count": 13,
     "metadata": {},
     "output_type": "execute_result"
    }
   ],
   "source": [
    "r2 #81% of variance is captured by model"
   ]
  },
  {
   "cell_type": "code",
   "execution_count": 14,
   "metadata": {},
   "outputs": [
    {
     "name": "stdout",
     "output_type": "stream",
     "text": [
      "OOB score -0.0773\n"
     ]
    }
   ],
   "source": [
    "rf = RandomForestRegressor(n_estimators=100,\n",
    "                           n_jobs=-1,\n",
    "                           oob_score=True)   #set to true to get error estimate\n",
    "rf.fit(X_train, y_train)\n",
    "noisy_oob_r2 = rf.oob_score_\n",
    "print(f\"OOB score {noisy_oob_r2:.4f}\")"
   ]
  },
  {
   "cell_type": "code",
   "execution_count": 15,
   "metadata": {},
   "outputs": [
    {
     "name": "stdout",
     "output_type": "stream",
     "text": [
      "Validation MAE trials: $389 $572 $429 $833 $415 $851 $865\n",
      "Average validation MAE $622\n"
     ]
    }
   ],
   "source": [
    "from sklearn.model_selection import train_test_split\n",
    "from sklearn.metrics import mean_absolute_error\n",
    "import numpy as np\n",
    "\n",
    "X, y = df_num.drop('price', axis=1), df_num['price']\n",
    "\n",
    "errors = []\n",
    "print(f\"Validation MAE trials:\", end='') #average absolute error in dollars\n",
    "for i in range(7):\n",
    "    X_train, X_test, y_train, y_test = train_test_split(X, y, test_size=0.20)\n",
    "    rf = RandomForestRegressor(n_estimators=100, n_jobs=-1)\n",
    "    rf.fit(X_train, y_train)\n",
    "    y_predicted = rf.predict(X_test)\n",
    "    e = mean_absolute_error(y_test, y_predicted)\n",
    "    print(f\" ${e:.0f}\", end='')\n",
    "    errors.append(e)\n",
    "print()\n",
    "noisy_avg_mae = np.mean(errors)\n",
    "print(f\"Average validation MAE ${noisy_avg_mae:.0f}\")"
   ]
  },
  {
   "cell_type": "code",
   "execution_count": 16,
   "metadata": {},
   "outputs": [
    {
     "data": {
      "text/html": [
       "<div>\n",
       "<style scoped>\n",
       "    .dataframe tbody tr th:only-of-type {\n",
       "        vertical-align: middle;\n",
       "    }\n",
       "\n",
       "    .dataframe tbody tr th {\n",
       "        vertical-align: top;\n",
       "    }\n",
       "\n",
       "    .dataframe thead th {\n",
       "        text-align: right;\n",
       "    }\n",
       "</style>\n",
       "<table border=\"1\" class=\"dataframe\">\n",
       "  <thead>\n",
       "    <tr style=\"text-align: right;\">\n",
       "      <th></th>\n",
       "      <th>bathrooms</th>\n",
       "      <th>bedrooms</th>\n",
       "      <th>longitude</th>\n",
       "      <th>latitude</th>\n",
       "      <th>price</th>\n",
       "    </tr>\n",
       "  </thead>\n",
       "  <tbody>\n",
       "    <tr>\n",
       "      <th>count</th>\n",
       "      <td>49352.00000</td>\n",
       "      <td>49352.000000</td>\n",
       "      <td>49352.000000</td>\n",
       "      <td>49352.000000</td>\n",
       "      <td>4.935200e+04</td>\n",
       "    </tr>\n",
       "    <tr>\n",
       "      <th>mean</th>\n",
       "      <td>1.21218</td>\n",
       "      <td>1.541640</td>\n",
       "      <td>-73.955716</td>\n",
       "      <td>40.741545</td>\n",
       "      <td>3.830174e+03</td>\n",
       "    </tr>\n",
       "    <tr>\n",
       "      <th>std</th>\n",
       "      <td>0.50142</td>\n",
       "      <td>1.115018</td>\n",
       "      <td>1.177912</td>\n",
       "      <td>0.638535</td>\n",
       "      <td>2.206687e+04</td>\n",
       "    </tr>\n",
       "    <tr>\n",
       "      <th>min</th>\n",
       "      <td>0.00000</td>\n",
       "      <td>0.000000</td>\n",
       "      <td>-118.271000</td>\n",
       "      <td>0.000000</td>\n",
       "      <td>4.300000e+01</td>\n",
       "    </tr>\n",
       "    <tr>\n",
       "      <th>25%</th>\n",
       "      <td>1.00000</td>\n",
       "      <td>1.000000</td>\n",
       "      <td>-73.991700</td>\n",
       "      <td>40.728300</td>\n",
       "      <td>2.500000e+03</td>\n",
       "    </tr>\n",
       "    <tr>\n",
       "      <th>50%</th>\n",
       "      <td>1.00000</td>\n",
       "      <td>1.000000</td>\n",
       "      <td>-73.977900</td>\n",
       "      <td>40.751800</td>\n",
       "      <td>3.150000e+03</td>\n",
       "    </tr>\n",
       "    <tr>\n",
       "      <th>75%</th>\n",
       "      <td>1.00000</td>\n",
       "      <td>2.000000</td>\n",
       "      <td>-73.954800</td>\n",
       "      <td>40.774300</td>\n",
       "      <td>4.100000e+03</td>\n",
       "    </tr>\n",
       "    <tr>\n",
       "      <th>max</th>\n",
       "      <td>10.00000</td>\n",
       "      <td>8.000000</td>\n",
       "      <td>0.000000</td>\n",
       "      <td>44.883500</td>\n",
       "      <td>4.490000e+06</td>\n",
       "    </tr>\n",
       "  </tbody>\n",
       "</table>\n",
       "</div>"
      ],
      "text/plain": [
       "         bathrooms      bedrooms     longitude      latitude         price\n",
       "count  49352.00000  49352.000000  49352.000000  49352.000000  4.935200e+04\n",
       "mean       1.21218      1.541640    -73.955716     40.741545  3.830174e+03\n",
       "std        0.50142      1.115018      1.177912      0.638535  2.206687e+04\n",
       "min        0.00000      0.000000   -118.271000      0.000000  4.300000e+01\n",
       "25%        1.00000      1.000000    -73.991700     40.728300  2.500000e+03\n",
       "50%        1.00000      1.000000    -73.977900     40.751800  3.150000e+03\n",
       "75%        1.00000      2.000000    -73.954800     40.774300  4.100000e+03\n",
       "max       10.00000      8.000000      0.000000     44.883500  4.490000e+06"
      ]
     },
     "execution_count": 16,
     "metadata": {},
     "output_type": "execute_result"
    }
   ],
   "source": [
    "df_num.describe()"
   ]
  },
  {
   "cell_type": "code",
   "execution_count": 17,
   "metadata": {},
   "outputs": [
    {
     "data": {
      "text/plain": [
       "19558    4490000\n",
       "9590     1150000\n",
       "30689    1070000\n",
       "29665    1070000\n",
       "10581     135000\n",
       "25538     111111\n",
       "45674     100000\n",
       "29082      90000\n",
       "7336       85000\n",
       "47995      80000\n",
       "Name: price, dtype: int64"
      ]
     },
     "execution_count": 17,
     "metadata": {},
     "output_type": "execute_result"
    }
   ],
   "source": [
    "df_num.price.sort_values(ascending=False).head(10)"
   ]
  },
  {
   "cell_type": "code",
   "execution_count": 18,
   "metadata": {},
   "outputs": [
    {
     "name": "stdout",
     "output_type": "stream",
     "text": [
      "1.0     39422\n",
      "2.0      7660\n",
      "3.0       745\n",
      "1.5       645\n",
      "0.0       313\n",
      "2.5       277\n",
      "4.0       159\n",
      "3.5        70\n",
      "4.5        29\n",
      "5.0        20\n",
      "5.5         5\n",
      "6.0         4\n",
      "6.5         1\n",
      "10.0        1\n",
      "7.0         1\n",
      "Name: bathrooms, dtype: int64\n",
      "1    15752\n",
      "2    14623\n",
      "0     9475\n",
      "3     7276\n",
      "4     1929\n",
      "5      247\n",
      "6       46\n",
      "8        2\n",
      "7        2\n",
      "Name: bedrooms, dtype: int64\n"
     ]
    },
    {
     "data": {
      "text/plain": [
       "array([[<matplotlib.axes._subplots.AxesSubplot object at 0x7f98860f77b8>,\n",
       "        <matplotlib.axes._subplots.AxesSubplot object at 0x7f98860b9b38>]],\n",
       "      dtype=object)"
      ]
     },
     "execution_count": 18,
     "metadata": {},
     "output_type": "execute_result"
    },
    {
     "data": {
      "image/png": "[encoded data removed]",
      "text/plain": [
       "<Figure size 1440x1440 with 2 Axes>"
      ]
     },
     "metadata": {
      "needs_background": "light"
     },
     "output_type": "display_data"
    }
   ],
   "source": [
    "print(df_num.bathrooms.value_counts())\n",
    "print(df_num.bedrooms.value_counts())\n",
    "df_num[['bathrooms', 'bedrooms']].hist(figsize = (20,20))\n"
   ]
  },
  {
   "cell_type": "code",
   "execution_count": 19,
   "metadata": {},
   "outputs": [
    {
     "name": "stdout",
     "output_type": "stream",
     "text": [
      "12\n"
     ]
    }
   ],
   "source": [
    "print(len(df[(df.longitude==0.0) & (df.latitude==0.0)]))\n",
    "#count how many entries with 0,0"
   ]
  },
  {
   "cell_type": "code",
   "execution_count": 20,
   "metadata": {},
   "outputs": [
    {
     "data": {
      "text/html": [
       "<div>\n",
       "<style scoped>\n",
       "    .dataframe tbody tr th:only-of-type {\n",
       "        vertical-align: middle;\n",
       "    }\n",
       "\n",
       "    .dataframe tbody tr th {\n",
       "        vertical-align: top;\n",
       "    }\n",
       "\n",
       "    .dataframe thead th {\n",
       "        text-align: right;\n",
       "    }\n",
       "</style>\n",
       "<table border=\"1\" class=\"dataframe\">\n",
       "  <thead>\n",
       "    <tr style=\"text-align: right;\">\n",
       "      <th></th>\n",
       "      <th>bedrooms</th>\n",
       "      <th>bathrooms</th>\n",
       "      <th>street_address</th>\n",
       "      <th>price</th>\n",
       "    </tr>\n",
       "  </thead>\n",
       "  <tbody>\n",
       "    <tr>\n",
       "      <th>39939</th>\n",
       "      <td>1</td>\n",
       "      <td>1.0</td>\n",
       "      <td>west 54 st &amp; 8 ave</td>\n",
       "      <td>2300</td>\n",
       "    </tr>\n",
       "    <tr>\n",
       "      <th>21711</th>\n",
       "      <td>1</td>\n",
       "      <td>1.0</td>\n",
       "      <td>300 West 55th Street</td>\n",
       "      <td>2400</td>\n",
       "    </tr>\n",
       "    <tr>\n",
       "      <th>15352</th>\n",
       "      <td>1</td>\n",
       "      <td>1.0</td>\n",
       "      <td>300 West 55th Street</td>\n",
       "      <td>3350</td>\n",
       "    </tr>\n",
       "    <tr>\n",
       "      <th>48274</th>\n",
       "      <td>1</td>\n",
       "      <td>1.0</td>\n",
       "      <td>300 West 55th Street</td>\n",
       "      <td>3400</td>\n",
       "    </tr>\n",
       "    <tr>\n",
       "      <th>29665</th>\n",
       "      <td>1</td>\n",
       "      <td>1.0</td>\n",
       "      <td>333 West 57th Street</td>\n",
       "      <td>1070000</td>\n",
       "    </tr>\n",
       "    <tr>\n",
       "      <th>30689</th>\n",
       "      <td>1</td>\n",
       "      <td>1.0</td>\n",
       "      <td>333 West 57th Street</td>\n",
       "      <td>1070000</td>\n",
       "    </tr>\n",
       "  </tbody>\n",
       "</table>\n",
       "</div>"
      ],
      "text/plain": [
       "       bedrooms  bathrooms        street_address    price\n",
       "39939         1        1.0   west 54 st & 8 ave      2300\n",
       "21711         1        1.0  300 West 55th Street     2400\n",
       "15352         1        1.0  300 West 55th Street     3350\n",
       "48274         1        1.0  300 West 55th Street     3400\n",
       "29665         1        1.0  333 West 57th Street  1070000\n",
       "30689         1        1.0  333 West 57th Street  1070000"
      ]
     },
     "execution_count": 20,
     "metadata": {},
     "output_type": "execute_result"
    }
   ],
   "source": [
    "df_local = df[(df.latitude>40.764) & (df.latitude<40.7678) &\n",
    "              (df.longitude>=-73.9844) & (df.longitude<=-73.9842) &\n",
    "           (df.bathrooms==1) & (df.bedrooms==1)]\n",
    "df_local[['bedrooms','bathrooms','street_address','price']].sort_values('price')"
   ]
  },
  {
   "cell_type": "code",
   "execution_count": 21,
   "metadata": {},
   "outputs": [],
   "source": [
    "# filter all records (training/testing)\n",
    "df_clean = df_num[(df_num.price>1_000) & (df_num.price<10_000)]\n",
    "# only want reasonably priced apartments as outliers won't help model\n",
    "# prediction goals\n"
   ]
  },
  {
   "cell_type": "code",
   "execution_count": 22,
   "metadata": {},
   "outputs": [
    {
     "data": {
      "text/plain": [
       "Text(0, 0.5, 'Num Apts at that price')"
      ]
     },
     "execution_count": 22,
     "metadata": {},
     "output_type": "execute_result"
    },
    {
     "data": {
      "image/png": "[encoded data removed]",
      "text/plain": [
       "<Figure size 1440x1440 with 1 Axes>"
      ]
     },
     "metadata": {
      "needs_background": "light"
     },
     "output_type": "display_data"
    }
   ],
   "source": [
    "ax = df_clean['price'].hist(bins = 45, figsize = (20,20))\n",
    "ax.set_xlabel('Clipped Price')\n",
    "ax.set_ylabel('Num Apts at that price')"
   ]
  },
  {
   "cell_type": "code",
   "execution_count": 23,
   "metadata": {},
   "outputs": [
    {
     "data": {
      "text/plain": [
       "Text(0, 0.5, 'Num Apts at that price')"
      ]
     },
     "execution_count": 23,
     "metadata": {},
     "output_type": "execute_result"
    },
    {
     "data": {
      "image/png": "[encoded data removed]",
      "text/plain": [
       "<Figure size 1440x1440 with 1 Axes>"
      ]
     },
     "metadata": {
      "needs_background": "light"
     },
     "output_type": "display_data"
    }
   ],
   "source": [
    "#clip out bottom and top 1%\n",
    "upper, lower = np.percentile(df.price, [1,99])\n",
    "clipped = np.clip(df.price, upper, lower)\n",
    "ax = clipped.hist(bins=45, figsize=(20,20))\n",
    "ax.set_xlabel('Prices in middle 98% range')\n",
    "ax.set_ylabel('Num Apts at that price')"
   ]
  },
  {
   "cell_type": "code",
   "execution_count": 24,
   "metadata": {},
   "outputs": [
    {
     "name": "stdout",
     "output_type": "stream",
     "text": [
      "11\n"
     ]
    }
   ],
   "source": [
    "df_missing = df_clean[(df_clean.longitude==0) & (df_clean.latitude==0)]\n",
    "print(len(df_missing))\n",
    "# delete missing entries from db\n",
    "df_clean = df_clean[(df_clean.longitude!=0) & (df_clean.latitude!=0)]"
   ]
  },
  {
   "cell_type": "code",
   "execution_count": 25,
   "metadata": {},
   "outputs": [],
   "source": [
    "# exclude values outside of NYC\n",
    "df_clean = df_clean[(df_clean['latitude']>40.55) &\n",
    "                    (df_clean['latitude']<40.94) &\n",
    "                    (df_clean['longitude']>-74.1) &\n",
    "                    (df_clean['longitude']<-73.67)]\n",
    "# find bounds on gps-coordinates.org\n",
    "# New York City has latitude, longitude 40.55, -74.1 on the lower left\n",
    "# 40.94, -73.67 on the upper right"
   ]
  },
  {
   "cell_type": "code",
   "execution_count": 26,
   "metadata": {},
   "outputs": [
    {
     "name": "stdout",
     "output_type": "stream",
     "text": [
      "Validation OOB score 0.8679\n"
     ]
    }
   ],
   "source": [
    "X, y = df_clean.drop('price', axis=1), df_clean['price']\n",
    "rf = RandomForestRegressor(n_estimators=100,\n",
    "                           n_jobs=-1,        # parallelize\n",
    "                           oob_score=True)   # get error estimate\n",
    "rf.fit(X, y)\n",
    "clean_oob_r2 = rf.oob_score_\n",
    "print(f\"Validation OOB score {clean_oob_r2:.4f}\")"
   ]
  },
  {
   "cell_type": "code",
   "execution_count": 27,
   "metadata": {},
   "outputs": [
    {
     "name": "stdout",
     "output_type": "stream",
     "text": [
      "Validation clean MAE trials: $303 $290 $301 $291 $300 $294 $296\n",
      "Average clean validation MAE $297\n"
     ]
    }
   ],
   "source": [
    "errors = []\n",
    "print(f\"Validation clean MAE trials:\", end='') #average absolute error in dollars\n",
    "for i in range(7):\n",
    "    X_train, X_test, y_train, y_test = train_test_split(X, y, test_size=0.20)\n",
    "    rf = RandomForestRegressor(n_estimators=100, n_jobs=-1)\n",
    "    rf.fit(X_train, y_train)\n",
    "    y_predicted = rf.predict(X_test)\n",
    "    e = mean_absolute_error(y_test, y_predicted)\n",
    "    print(f\" ${e:.0f}\", end='')\n",
    "    errors.append(e)\n",
    "print()\n",
    "noisy_avg_mae = np.mean(errors)\n",
    "print(f\"Average clean validation MAE ${noisy_avg_mae:.0f}\")"
   ]
  },
  {
   "cell_type": "code",
   "execution_count": 28,
   "metadata": {},
   "outputs": [
    {
     "name": "stdout",
     "output_type": "stream",
     "text": [
      "LM Training score 0.5782\n",
      "LM Validation score 0.5666\n"
     ]
    }
   ],
   "source": [
    "from sklearn.linear_model import Lasso\n",
    "\n",
    "X_train, X_test, y_train, y_test = train_test_split(X, y, test_size=0.20)\n",
    "lm = Lasso(alpha=0.5) # create linear model\n",
    "lm.fit(X_train, y_train)\n",
    "print(f\"LM Training score {lm.score(X_train, y_train):.4f}\")\n",
    "print(f\"LM Validation score {lm.score(X_test, y_test):.4f}\")"
   ]
  },
  {
   "cell_type": "code",
   "execution_count": 29,
   "metadata": {},
   "outputs": [
    {
     "name": "stdout",
     "output_type": "stream",
     "text": [
      "GB Training score 0.8404\n",
      "GB Validation score 0.8096\n"
     ]
    }
   ],
   "source": [
    "from sklearn.ensemble import GradientBoostingRegressor\n",
    "\n",
    "gbr = GradientBoostingRegressor(n_estimators = 2000)\n",
    "gbr.fit(X_train, y_train)\n",
    "print(f\"GB Training score {gbr.score(X_train, y_train):.4f}\")\n",
    "print(f\"GB Validation score {gbr.score(X_test, y_test):.4f}\")"
   ]
  },
  {
   "cell_type": "code",
   "execution_count": 30,
   "metadata": {},
   "outputs": [],
   "source": [
    "# random forest model looks to perform favorably over other models\n",
    "# so with the current exclusions as a baseline model:\n",
    "\n",
    "df = pd.read_csv(\"rent.csv\", parse_dates=['created'])\n",
    "df_clean = df[(df.price>1_000) & (df.price<10_000)]\n",
    "df_clean = df_clean[(df_clean.longitude!=0) | (df_clean.latitude!=0)]\n",
    "df_clean = df_clean[(df_clean['latitude']>40.55) &\n",
    "                    (df_clean['latitude']<40.94) &\n",
    "                    (df_clean['longitude']>-74.1) &\n",
    "                    (df_clean['longitude']<-73.67)]\n",
    "df = df_clean"
   ]
  },
  {
   "cell_type": "code",
   "execution_count": 31,
   "metadata": {},
   "outputs": [
    {
     "name": "stdout",
     "output_type": "stream",
     "text": [
      "0.8677607506108305\n"
     ]
    }
   ],
   "source": [
    "numfeatures = ['bathrooms', 'bedrooms', 'longitude', 'latitude']\n",
    "X, y = df[numfeatures], df['price']\n",
    "rf = RandomForestRegressor(n_estimators=100, n_jobs=-1, oob_score=True)\n",
    "rf.fit(X, y)\n",
    "oob_baseline = rf.oob_score_\n",
    "print(oob_baseline)"
   ]
  },
  {
   "cell_type": "code",
   "execution_count": 32,
   "metadata": {},
   "outputs": [
    {
     "name": "stdout",
     "output_type": "stream",
     "text": [
      "2,433,374 tree nodes and 35.0 median tree height\n"
     ]
    }
   ],
   "source": [
    "from rfpimp import *\n",
    "print(f\"{rfnnodes(rf):,d} tree nodes and {np.median(rfmaxdepths(rf))} median tree height\")"
   ]
  },
  {
   "cell_type": "code",
   "execution_count": 33,
   "metadata": {},
   "outputs": [
    {
     "data": {
      "image/png": "[encoded data removed]",
      "text/plain": [
       "<Figure size 288x108 with 1 Axes>"
      ]
     },
     "metadata": {
      "needs_background": "light"
     },
     "output_type": "display_data"
    }
   ],
   "source": [
    "def showimp(rf, X, y):\n",
    "    features = list(X.columns)\n",
    "    features.remove('latitude')\n",
    "    features.remove('longitude')\n",
    "    features += [['latitude','longitude']]\n",
    "\n",
    "    I = importances(rf, X, y, features=features)\n",
    "    plot_importances(I)\n",
    "    \n",
    "showimp(rf, X, y)"
   ]
  },
  {
   "cell_type": "code",
   "execution_count": 34,
   "metadata": {},
   "outputs": [
    {
     "name": "stdout",
     "output_type": "stream",
     "text": [
      "low       33270\n",
      "medium    11203\n",
      "high       3827\n",
      "Name: interest_level, dtype: int64\n"
     ]
    }
   ],
   "source": [
    "print(df['interest_level'].value_counts())"
   ]
  },
  {
   "cell_type": "code",
   "execution_count": 35,
   "metadata": {},
   "outputs": [
    {
     "name": "stdout",
     "output_type": "stream",
     "text": [
      "1    33270\n",
      "2    11203\n",
      "3     3827\n",
      "Name: interest_level, dtype: int64\n"
     ]
    }
   ],
   "source": [
    "df['interest_level'] = df['interest_level'].map({'low':1,'medium':2,'high':3})\n",
    "print(df['interest_level'].value_counts())"
   ]
  },
  {
   "cell_type": "code",
   "execution_count": 38,
   "metadata": {},
   "outputs": [
    {
     "name": "stdout",
     "output_type": "stream",
     "text": [
      "OOB R^2 0.87018 using 3,023,560 tree nodes with 35.0 median tree height\n"
     ]
    }
   ],
   "source": [
    "def test(X, y):\n",
    "    rf = RandomForestRegressor(n_estimators=100, n_jobs=-1, oob_score=True)\n",
    "    rf.fit(X, y)\n",
    "    oob = rf.oob_score_\n",
    "    n = rfnnodes(rf)\n",
    "    h = np.median(rfmaxdepths(rf))\n",
    "    print(f\"OOB R^2 {oob:.5f} using {n:,d} tree nodes with {h} median tree height\")\n",
    "    return rf, oob\n",
    "\n",
    "X, y = df[['interest_level']+numfeatures], df['price']\n",
    "rf, oob = test(X, y)"
   ]
  },
  {
   "cell_type": "code",
   "execution_count": 39,
   "metadata": {},
   "outputs": [],
   "source": [
    "#couple points better than our baseline"
   ]
  },
  {
   "cell_type": "code",
   "execution_count": 40,
   "metadata": {},
   "outputs": [
    {
     "name": "stdout",
     "output_type": "stream",
     "text": [
      "3409 7417 8692\n"
     ]
    }
   ],
   "source": [
    "print(len(df['manager_id'].unique()), \\\n",
    "      len(df['building_id'].unique()), \\\n",
    "      len(df['display_address'].unique()))"
   ]
  },
  {
   "cell_type": "code",
   "execution_count": 41,
   "metadata": {},
   "outputs": [],
   "source": [
    "# label encode, computed automatically by Pandas\n",
    "df['display_address_cat'] = df['display_address'].astype('category').cat.as_ordered()\n",
    "df['display_address_cat'] = df['display_address_cat'].cat.codes + 1 #convert nan from -1 to 0"
   ]
  },
  {
   "cell_type": "code",
   "execution_count": 42,
   "metadata": {},
   "outputs": [
    {
     "name": "stdout",
     "output_type": "stream",
     "text": [
      "OOB R^2 0.86549 using 3,122,874 tree nodes with 37.0 median tree height\n"
     ]
    }
   ],
   "source": [
    "X, y = df[['display_address_cat']+numfeatures], df['price']\n",
    "rf, oob = test(X, y)\n",
    "# same as baseline, does not improve"
   ]
  },
  {
   "cell_type": "code",
   "execution_count": 43,
   "metadata": {},
   "outputs": [
    {
     "data": {
      "text/plain": [
       "e6472c7237327dd3903b3d6f6a94515a    2509\n",
       "6e5c10246156ae5bdcd9b487ca99d96a     695\n",
       "8f5a9c893f6d602f4953fcc0b8e6e9b4     404\n",
       "62b685cc0d876c3a1a51d63a0d6a8082     396\n",
       "cb87dadbca78fad02b388dc9e8f25a5b     370\n",
       "Name: manager_id, dtype: int64"
      ]
     },
     "execution_count": 43,
     "metadata": {},
     "output_type": "execute_result"
    }
   ],
   "source": [
    "# let's try frequency encoding\n",
    "df['manager_id'].value_counts().head(5)"
   ]
  },
  {
   "cell_type": "code",
   "execution_count": 44,
   "metadata": {},
   "outputs": [],
   "source": [
    "managers_count = df['manager_id'].value_counts()\n",
    "df['mgr_apt_count'] = df['manager_id'].map(managers_count)"
   ]
  },
  {
   "cell_type": "code",
   "execution_count": 45,
   "metadata": {},
   "outputs": [
    {
     "name": "stdout",
     "output_type": "stream",
     "text": [
      "OOB R^2 0.86421 using 4,569,450 tree nodes with 41.0 median tree height\n"
     ]
    }
   ],
   "source": [
    "X, y = df[['display_address_cat','mgr_apt_count']+numfeatures], df['price']\n",
    "rf, oob = test(X, y)\n",
    "# model complexity also increased w/o improvement. avoid these features"
   ]
  },
  {
   "cell_type": "code",
   "execution_count": 46,
   "metadata": {},
   "outputs": [],
   "source": [
    "df['description'] = df['description'].fillna('')\n",
    "df['description'] = df['description'].str.lower() # normalize to lower case\n",
    "df['features'] = df['features'].fillna('') # fill missing w/blanks\n",
    "df['features'] = df['features'].str.lower() # normalize to lower case\n"
   ]
  },
  {
   "cell_type": "code",
   "execution_count": 47,
   "metadata": {},
   "outputs": [
    {
     "data": {
      "text/html": [
       "<div>\n",
       "<style scoped>\n",
       "    .dataframe tbody tr th:only-of-type {\n",
       "        vertical-align: middle;\n",
       "    }\n",
       "\n",
       "    .dataframe tbody tr th {\n",
       "        vertical-align: top;\n",
       "    }\n",
       "\n",
       "    .dataframe thead th {\n",
       "        text-align: right;\n",
       "    }\n",
       "</style>\n",
       "<table border=\"1\" class=\"dataframe\">\n",
       "  <thead>\n",
       "    <tr style=\"text-align: right;\">\n",
       "      <th></th>\n",
       "      <th>doorman</th>\n",
       "      <th>parking</th>\n",
       "      <th>garage</th>\n",
       "      <th>laundry</th>\n",
       "    </tr>\n",
       "  </thead>\n",
       "  <tbody>\n",
       "    <tr>\n",
       "      <th>0</th>\n",
       "      <td>False</td>\n",
       "      <td>False</td>\n",
       "      <td>False</td>\n",
       "      <td>False</td>\n",
       "    </tr>\n",
       "    <tr>\n",
       "      <th>1</th>\n",
       "      <td>True</td>\n",
       "      <td>False</td>\n",
       "      <td>False</td>\n",
       "      <td>False</td>\n",
       "    </tr>\n",
       "    <tr>\n",
       "      <th>2</th>\n",
       "      <td>False</td>\n",
       "      <td>False</td>\n",
       "      <td>False</td>\n",
       "      <td>True</td>\n",
       "    </tr>\n",
       "    <tr>\n",
       "      <th>3</th>\n",
       "      <td>False</td>\n",
       "      <td>False</td>\n",
       "      <td>False</td>\n",
       "      <td>False</td>\n",
       "    </tr>\n",
       "    <tr>\n",
       "      <th>4</th>\n",
       "      <td>False</td>\n",
       "      <td>False</td>\n",
       "      <td>False</td>\n",
       "      <td>False</td>\n",
       "    </tr>\n",
       "  </tbody>\n",
       "</table>\n",
       "</div>"
      ],
      "text/plain": [
       "   doorman  parking  garage  laundry\n",
       "0    False    False   False    False\n",
       "1     True    False   False    False\n",
       "2    False    False   False     True\n",
       "3    False    False   False    False\n",
       "4    False    False   False    False"
      ]
     },
     "execution_count": 47,
     "metadata": {},
     "output_type": "execute_result"
    }
   ],
   "source": [
    "# has apartment been renovated?\n",
    "df['renov'] = df['description'].str.contains(\"renov\")\n",
    "\n",
    "for feature in ['doorman', 'parking', 'garage', 'laundry', \n",
    "          'Elevator', 'fitness center', 'dishwasher']:\n",
    "    df[feature] = df['features'].str.contains(feature) #return t/f for new columns\n",
    "df[['doorman', 'parking', 'garage', 'laundry']].head(5)"
   ]
  },
  {
   "cell_type": "code",
   "execution_count": 48,
   "metadata": {},
   "outputs": [],
   "source": [
    "# count num of words in descriptions\n",
    "df[\"num_desc_words\"] = df[\"description\"].apply(lambda x: len(x.split()))\n",
    "# sum up number of features\n",
    "df[\"num_features\"] = df[\"features\"].apply(lambda x: len(x.split(\",\")))\n",
    "# sum up number of photos uploaded\n",
    "df[\"num_photos\"] = df[\"photos\"].apply(lambda x: len(x.split(\",\")))\n",
    "\n"
   ]
  },
  {
   "cell_type": "code",
   "execution_count": 49,
   "metadata": {},
   "outputs": [
    {
     "name": "stdout",
     "output_type": "stream",
     "text": [
      "OOB R^2 0.86253 using 4,773,100 tree nodes with 44.0 median tree height\n"
     ]
    }
   ],
   "source": [
    "# test out new features on model\n",
    "textfeatures = [\n",
    "    'num_photos', 'num_desc_words', 'num_features',\n",
    "    'doorman', 'parking', 'garage', 'laundry', \n",
    "    'Elevator', 'fitness center', 'dishwasher',\n",
    "    'renov'\n",
    "]\n",
    "X, y = df[textfeatures+numfeatures], df['price']\n",
    "rf, oob = test(X, y)"
   ]
  },
  {
   "cell_type": "code",
   "execution_count": 50,
   "metadata": {
    "scrolled": true
   },
   "outputs": [
    {
     "data": {
      "image/png": "[encoded data removed]",
      "text/plain": [
       "<Figure size 288x237.6 with 1 Axes>"
      ]
     },
     "metadata": {
      "needs_background": "light"
     },
     "output_type": "display_data"
    }
   ],
   "source": [
    "# model does not improve, complexity increases\n",
    "showimp(rf, X, y)"
   ]
  },
  {
   "cell_type": "code",
   "execution_count": 51,
   "metadata": {},
   "outputs": [
    {
     "name": "stdout",
     "output_type": "stream",
     "text": [
      "OOB R^2 0.86771 using 2,433,088 tree nodes with 35.0 median tree height\n"
     ]
    }
   ],
   "source": [
    "# try to find predictive power in feature ratios\n",
    "\n",
    "df[\"beds_to_baths\"] = df[\"bedrooms\"]/(df[\"bathrooms\"]+1) # avoid div by 0\n",
    "X, y = df[['beds_to_baths']+numfeatures], df['price']\n",
    "rf, oob = test(X, y)\n",
    "\n",
    "# doesn't improve model"
   ]
  },
  {
   "cell_type": "code",
   "execution_count": 52,
   "metadata": {},
   "outputs": [
    {
     "name": "stdout",
     "output_type": "stream",
     "text": [
      "OOB R^2 0.98636 using 1,315,992 tree nodes with 30.5 median tree height\n"
     ]
    }
   ],
   "source": [
    "# ratio of bedrooms to price?\n",
    "\n",
    "df[\"beds_per_price\"] = df[\"bedrooms\"] / df[\"price\"]\n",
    "X, y = df[['beds_per_price']+numfeatures], df['price']\n",
    "rf, oob = test(X, y)\n",
    "\n",
    "# r2 too high, data leakage occuring"
   ]
  },
  {
   "cell_type": "code",
   "execution_count": 53,
   "metadata": {},
   "outputs": [
    {
     "data": {
      "text/html": [
       "<div>\n",
       "<style scoped>\n",
       "    .dataframe tbody tr th:only-of-type {\n",
       "        vertical-align: middle;\n",
       "    }\n",
       "\n",
       "    .dataframe tbody tr th {\n",
       "        vertical-align: top;\n",
       "    }\n",
       "\n",
       "    .dataframe thead th {\n",
       "        text-align: right;\n",
       "    }\n",
       "</style>\n",
       "<table border=\"1\" class=\"dataframe\">\n",
       "  <thead>\n",
       "    <tr style=\"text-align: right;\">\n",
       "      <th></th>\n",
       "      <th>price</th>\n",
       "    </tr>\n",
       "    <tr>\n",
       "      <th>building_id</th>\n",
       "      <th></th>\n",
       "    </tr>\n",
       "  </thead>\n",
       "  <tbody>\n",
       "    <tr>\n",
       "      <th>0</th>\n",
       "      <td>3195.9321</td>\n",
       "    </tr>\n",
       "    <tr>\n",
       "      <th>00005cb939f9986300d987652c933e15</th>\n",
       "      <td>3399.0000</td>\n",
       "    </tr>\n",
       "    <tr>\n",
       "      <th>00024d77a43f0606f926e2312513845c</th>\n",
       "      <td>2000.0000</td>\n",
       "    </tr>\n",
       "    <tr>\n",
       "      <th>000ae4b7db298401cdae2b0ba1ea8146</th>\n",
       "      <td>2400.0000</td>\n",
       "    </tr>\n",
       "    <tr>\n",
       "      <th>0012f1955391bca600ec301035b97b65</th>\n",
       "      <td>3700.0000</td>\n",
       "    </tr>\n",
       "  </tbody>\n",
       "</table>\n",
       "</div>"
      ],
      "text/plain": [
       "                                      price\n",
       "building_id                                \n",
       "0                                 3195.9321\n",
       "00005cb939f9986300d987652c933e15  3399.0000\n",
       "00024d77a43f0606f926e2312513845c  2000.0000\n",
       "000ae4b7db298401cdae2b0ba1ea8146  2400.0000\n",
       "0012f1955391bca600ec301035b97b65  3700.0000"
      ]
     },
     "execution_count": 53,
     "metadata": {},
     "output_type": "execute_result"
    }
   ],
   "source": [
    "# try finding average price per building\n",
    "\n",
    "df.groupby('building_id').mean()[['price']].head(5)"
   ]
  },
  {
   "cell_type": "code",
   "execution_count": 54,
   "metadata": {},
   "outputs": [
    {
     "name": "stdout",
     "output_type": "stream",
     "text": [
      "OOB R^2 0.87219 using 2,746,598 tree nodes with 39.0 median tree height\n"
     ]
    }
   ],
   "source": [
    "#use category encoders to compute building price mean from a subset of the data\n",
    "from category_encoders.target_encoder import TargetEncoder\n",
    "df = df.reset_index() # not sure why TargetEncoder needs this but it does\n",
    "targetfeatures = ['building_id']\n",
    "encoder = TargetEncoder(cols=targetfeatures)\n",
    "encoder.fit(df, df['price'])\n",
    "df_encoded = encoder.transform(df, df['price'])\n",
    "\n",
    "X, y = df_encoded[targetfeatures+numfeatures], df['price']\n",
    "rf, oob = test(X, y)\n",
    "\n",
    "# pretty good score but might be overfit"
   ]
  },
  {
   "cell_type": "code",
   "execution_count": 60,
   "metadata": {},
   "outputs": [
    {
     "data": {
      "text/plain": [
       "0    2758.647370\n",
       "1    5732.619043\n",
       "2    3330.172414\n",
       "3    3577.989899\n",
       "4    3195.932100\n",
       "Name: building_id, dtype: float64"
      ]
     },
     "execution_count": 60,
     "metadata": {},
     "output_type": "execute_result"
    }
   ],
   "source": [
    "df_encoded.building_id.head()"
   ]
  },
  {
   "cell_type": "code",
   "execution_count": 61,
   "metadata": {},
   "outputs": [
    {
     "name": "stdout",
     "output_type": "stream",
     "text": [
      "0.856310 score 2,127,060 tree nodes and 35.0 median tree height\n"
     ]
    }
   ],
   "source": [
    "# find training score vs test score to verify\n",
    "df_train, df_test = train_test_split(df, test_size=0.20)\n",
    "\n",
    "# TargetEncoder needs the resets, not sure why\n",
    "df_train = df_train.reset_index(drop=True)\n",
    "df_test = df_test.reset_index(drop=True)\n",
    "\n",
    "X_train = df_train[numfeatures]\n",
    "y_train = df_train['price']\n",
    "X_test = df_test[numfeatures]\n",
    "y_test = df_test['price']\n",
    "\n",
    "rf = RandomForestRegressor(n_estimators=100, n_jobs=-1)\n",
    "rf.fit(X_train, y_train)\n",
    "s_validation = rf.score(X_test, y_test)\n",
    "print(f\"{s_validation:4f} score {rfnnodes(rf):,d} tree nodes and {np.median(rfmaxdepths(rf))} median tree height\")\n"
   ]
  },
  {
   "cell_type": "code",
   "execution_count": 58,
   "metadata": {},
   "outputs": [
    {
     "name": "stdout",
     "output_type": "stream",
     "text": [
      "0.8540 score 2,373,358 tree nodes and 38.0 median tree height\n"
     ]
    }
   ],
   "source": [
    "enc = TargetEncoder(cols=targetfeatures)\n",
    "enc.fit(df_train, df_train['price'])\n",
    "df_train_encoded = enc.transform(df_train, df_train['price'])\n",
    "df_test_encoded = enc.transform(df_test)\n",
    "\n",
    "X_train = df_train_encoded[targetfeatures+numfeatures]\n",
    "y_train = df_train_encoded['price']\n",
    "X_test = df_test_encoded[targetfeatures+numfeatures]\n",
    "y_test = df_test_encoded['price']\n",
    "\n",
    "rf = RandomForestRegressor(n_estimators=100, n_jobs=-1)\n",
    "rf.fit(X_train, y_train)\n",
    "s_tenc_validation = rf.score(X_test, y_test)\n",
    "print(f\"{s_tenc_validation:.4f} score {rfnnodes(rf):,d} tree nodes and {np.median(rfmaxdepths(rf))} median tree height\")\n",
    "\n",
    "# looks like adding in building id price will cause the model to overfit"
   ]
  },
  {
   "cell_type": "code",
   "execution_count": 62,
   "metadata": {},
   "outputs": [],
   "source": [
    "# adding another feature by top 10 desirable neighborhoods in NYC\n",
    "hoods = {\n",
    "    \"hells\" : [40.7622, -73.9924],\n",
    "    \"astoria\" : [40.7796684, -73.9215888],\n",
    "    \"Evillage\" : [40.723163774, -73.984829394],\n",
    "    \"Wvillage\" : [40.73578, -74.00357],\n",
    "    \"LowerEast\" : [40.715033, -73.9842724],\n",
    "    \"UpperEast\" : [40.768163594, -73.959329496],\n",
    "    \"ParkSlope\" : [40.672404, -73.977063],\n",
    "    \"Prospect Park\" : [40.93704, -74.17431],\n",
    "    \"Crown Heights\" : [40.657830702, -73.940162906],\n",
    "    \"financial\" : [40.703830518, -74.005666644],\n",
    "    \"brooklynheights\" : [40.7022621909, -73.9871760513],\n",
    "    \"gowanus\" : [40.673, -73.997]\n",
    "} # found from a mapping website"
   ]
  },
  {
   "cell_type": "code",
   "execution_count": 63,
   "metadata": {},
   "outputs": [],
   "source": [
    "for hood,loc in hoods.items():\n",
    "    # compute manhattan distance\n",
    "    df[hood] = np.abs(df.latitude - loc[0]) + np.abs(df.longitude - loc[1])"
   ]
  },
  {
   "cell_type": "code",
   "execution_count": 66,
   "metadata": {},
   "outputs": [
    {
     "name": "stdout",
     "output_type": "stream",
     "text": [
      "OOB R^2 0.87242 using 2,411,630 tree nodes with 42.0 median tree height\n"
     ]
    }
   ],
   "source": [
    "hoodfeatures = list(hoods.keys())\n",
    "X, y = df[numfeatures+hoodfeatures], df['price']\n",
    "rf, oob_hood = test(X, y)\n"
   ]
  },
  {
   "cell_type": "code",
   "execution_count": 67,
   "metadata": {},
   "outputs": [
    {
     "name": "stdout",
     "output_type": "stream",
     "text": [
      "0.8698 score 2,423,796 tree nodes and 41.0 median tree height\n"
     ]
    }
   ],
   "source": [
    "# since we are using hoods, we probably don't need latitude or longitude due to data overlap\n",
    "X = X.drop(['longitude','latitude'],axis=1)\n",
    "rf = RandomForestRegressor(n_estimators=100, n_jobs=-1, oob_score=True)\n",
    "rf.fit(X, y)\n",
    "print(f\"{rf.oob_score_:.4f} score {rfnnodes(rf):,d} tree nodes and {np.median(rfmaxdepths(rf))} median tree height\")\n"
   ]
  },
  {
   "cell_type": "code",
   "execution_count": 68,
   "metadata": {},
   "outputs": [
    {
     "name": "stdout",
     "output_type": "stream",
     "text": [
      "OOB R^2 0.87913 using 4,838,888 tree nodes with 44.0 median tree height\n"
     ]
    }
   ],
   "source": [
    "#combined model\n",
    "X = df[['interest_level']+textfeatures+hoodfeatures+numfeatures]\n",
    "rf, oob_combined = test(X, y)"
   ]
  },
  {
   "cell_type": "code",
   "execution_count": 69,
   "metadata": {},
   "outputs": [
    {
     "data": {
      "image/png": "[encoded data removed]",
      "text/plain": [
       "<Figure size 288x443.52 with 1 Axes>"
      ]
     },
     "metadata": {
      "needs_background": "light"
     },
     "output_type": "display_data"
    }
   ],
   "source": [
    "showimp(rf, X, y)"
   ]
  },
  {
   "cell_type": "code",
   "execution_count": 70,
   "metadata": {},
   "outputs": [
    {
     "name": "stdout",
     "output_type": "stream",
     "text": [
      "RF Training score 0.9812\n",
      "RF Validation score 0.8735\n"
     ]
    }
   ],
   "source": [
    "#6% improvement from the baseline model\n",
    "X_train, X_test, y_train, y_test = train_test_split(X, y, test_size=0.20)\n",
    "rf = RandomForestRegressor(n_estimators=100, n_jobs=-1, oob_score=True)\n",
    "rf.fit(X_train, y_train)\n",
    "print(f\"RF Training score {rf.score(X_train, y_train):.4f}\")\n",
    "print(f\"RF Validation score {rf.score(X_test, y_test):.4f}\")\n",
    "# oob and validation score pretty similar"
   ]
  },
  {
   "cell_type": "code",
   "execution_count": null,
   "metadata": {},
   "outputs": [],
   "source": []
  }
 ],
 "metadata": {
  "kernelspec": {
   "display_name": "Python 3",
   "language": "python",
   "name": "python3"
  },
  "language_info": {
   "codemirror_mode": {
    "name": "ipython",
    "version": 3
   },
   "file_extension": ".py",
   "mimetype": "text/x-python",
   "name": "python",
   "nbconvert_exporter": "python",
   "pygments_lexer": "ipython3",
   "version": "3.7.1"
  }
 },
 "nbformat": 4,
 "nbformat_minor": 2
}
