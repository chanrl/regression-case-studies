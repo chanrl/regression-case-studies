{
 "cells": [
  {
   "cell_type": "code",
   "execution_count": 5,
   "metadata": {},
   "outputs": [],
   "source": [
    "#training and validating data using all the cleaning techniques from the exploration\n",
    "import pandas as pd\n",
    "import numpy as np\n",
    "from typing import Sequence\n",
    "\n",
    "from sklearn.ensemble import RandomForestRegressor\n",
    "from pandas.api.types import is_string_dtype, is_object_dtype, is_categorical_dtype\n",
    "from sklearn.metrics import mean_absolute_error, mean_squared_log_error, mean_squared_error, r2_score\n",
    "\n",
    "from rfpimp import *\n",
    "from prep import *\n",
    "import feather"
   ]
  },
  {
   "cell_type": "code",
   "execution_count": 71,
   "metadata": {},
   "outputs": [],
   "source": [
    "import matplotlib.pyplot as plt\n",
    "from sklearn.metrics import confusion_matrix, mean_squared_error, r2_score, roc_curve\n",
    "from sklearn.linear_model import LogisticRegression , Ridge, Lasso, LinearRegression\n",
    "from sklearn.preprocessing import StandardScaler\n",
    "import scipy.stats as scs\n",
    "import statsmodels.api as sm\n",
    "import statsmodels.formula.api as smf\n",
    "from glm.glm import GLM\n",
    "from glm.families import Gaussian\n",
    "from sklearn.model_selection import train_test_split, KFold, cross_val_score\n",
    "import re\n",
    "from clean import *\n",
    "from score_model import *\n",
    "from ridge import *\n",
    "# only techniques allowed, no RF\n",
    "# Linear Regression.\n",
    "# Logistic Regression.\n",
    "# Median Regression (linear regression by minimizing the sum of absolute deviations).\n",
    "# Any other GLM.\n",
    "# Regularization: Ridge and LASSO."
   ]
  },
  {
   "cell_type": "code",
   "execution_count": 147,
   "metadata": {},
   "outputs": [],
   "source": [
    "\n",
    "# load data\n",
    "\n",
    "df = feather.read_dataframe(\"data/bulldozer-train.feather\")\n",
    "df = df.iloc[-100_000:] # same 100,000 records as before\n",
    "X, y = df.drop('SalePrice', axis=1), df['SalePrice']\n"
   ]
  },
  {
   "cell_type": "code",
   "execution_count": 148,
   "metadata": {},
   "outputs": [],
   "source": [
    "# apply log to result, clean and categorize the data as before\n",
    "y = np.log(y)\n",
    "clean(X)\n",
    "X, catencoders = feature_eng(X)\n",
    "medians = numericalize(X, catencoders)\n"
   ]
  },
  {
   "cell_type": "code",
   "execution_count": 78,
   "metadata": {},
   "outputs": [],
   "source": [
    "df_train = feather.read_dataframe(\"data/bulldozer-valid.feather\")\n",
    "X_train, y_train = df_train.drop('SalePrice', axis=1), df_train['SalePrice']\n",
    "\n",
    "y_train = np.log(y_train)\n",
    "clean(X_train)\n",
    "X_train = feature_eng_test(X_train, catencoders)\n",
    "numericalize_test(X_train, medians, catencoders)\n"
   ]
  },
  {
   "cell_type": "code",
   "execution_count": 49,
   "metadata": {},
   "outputs": [],
   "source": [
    "def RMSE(y_pred, y_true):\n",
    "    return np.sqrt(MSE(y_pred, y_true))"
   ]
  },
  {
   "cell_type": "code",
   "execution_count": 79,
   "metadata": {},
   "outputs": [],
   "source": [
    "X_train = X_train.reindex(columns=X.columns)"
   ]
  },
  {
   "cell_type": "code",
   "execution_count": 81,
   "metadata": {},
   "outputs": [
    {
     "name": "stdout",
     "output_type": "stream",
     "text": [
      "Validation R^2 0.43461, RMSLE 0.54363\n"
     ]
    }
   ],
   "source": [
    "#linear regression\n",
    "\n",
    "from sklearn.metrics import mean_squared_error, mean_absolute_error\n",
    "\n",
    "model = LinearRegression()\n",
    "model.fit(X_train, y_train)\n",
    "y_pred = model.predict(X_train)\n",
    "rmsle_train_baseline = np.sqrt( mean_squared_error(y_train, y_pred) )\n",
    "r2_train_baseline = model.score(X_train, y_train)\n",
    "print(f\"Validation R^2 {r2_train_baseline:.5f}, \"+\n",
    "      f\"RMSLE {rmsle_train_baseline:.5f}\")\n"
   ]
  },
  {
   "cell_type": "code",
   "execution_count": 142,
   "metadata": {},
   "outputs": [
    {
     "name": "stdout",
     "output_type": "stream",
     "text": [
      "Validation R^2 0.74030, RMSLE 0.36844\n"
     ]
    },
    {
     "name": "stderr",
     "output_type": "stream",
     "text": [
      "/home/richard/anaconda3/lib/python3.7/site-packages/sklearn/linear_model/ridge.py:125: LinAlgWarning: scipy.linalg.solve\n",
      "Ill-conditioned matrix detected. Result is not guaranteed to be accurate.\n",
      "Reciprocal condition number2.920072e-36\n",
      "  overwrite_a=True).T\n"
     ]
    }
   ],
   "source": [
    "#Ridge\n",
    "\n",
    "model = Ridge(alpha=0.5)\n",
    "model.fit(X_train, y_train)\n",
    "y_pred = model.predict(X_train)\n",
    "rmsle_train_baseline = np.sqrt( mean_squared_error(y_train, y_pred) )\n",
    "r2_train_baseline = model.score(X_train, y_train)\n",
    "print(f\"Validation R^2 {r2_train_baseline:.5f}, \"+\n",
    "      f\"RMSLE {rmsle_train_baseline:.5f}\")\n"
   ]
  },
  {
   "cell_type": "code",
   "execution_count": 94,
   "metadata": {},
   "outputs": [
    {
     "name": "stdout",
     "output_type": "stream",
     "text": [
      "Validation R^2 0.31890, RMSLE 0.59667\n"
     ]
    }
   ],
   "source": [
    "#Lasso\n",
    "\n",
    "model = Lasso(alpha=0.5)\n",
    "model.fit(X_train, y_train)\n",
    "y_pred = model.predict(X_train)\n",
    "rmsle_train_baseline = np.sqrt( mean_squared_error(y_train, y_pred) )\n",
    "r2_train_baseline = model.score(X_train, y_train)\n",
    "print(f\"Validation R^2 {r2_train_baseline:.5f}, \"+\n",
    "      f\"RMSLE {rmsle_train_baseline:.5f}\")\n"
   ]
  },
  {
   "cell_type": "code",
   "execution_count": 109,
   "metadata": {},
   "outputs": [],
   "source": [
    "def select_features(X, y, X_valid, y_valid, drop=0.10):\n",
    "   min_rmsle = 99999\n",
    "   X_valid = X_valid.reindex(columns=X.columns)\n",
    "   rf, _, rmsle, _ = test_valid(X, y, X_valid, y_valid,\n",
    "                                max_features=.3, min_samples_leaf=2)\n",
    "   I = importances(rf, X_valid, y_valid)\n",
    "   features = list(I.index)\n",
    "   keep = best_features = features\n",
    "   n = int(.9/drop) # how many iterations? get to 90%\n",
    "   for i in range(1,n+1):\n",
    "       X2 = X[keep]\n",
    "       X_valid2 = X_valid[keep]\n",
    "       print(f\"\\nNum features = {len(keep)}\")\n",
    "       rf2, _, rmsle, _ = test_valid(X2, y, X_valid2, y_valid,\n",
    "                                     max_features=.3, min_samples_leaf=2)\n",
    "       if rmsle < min_rmsle:\n",
    "           min_rmsle = rmsle\n",
    "           best_features = keep\n",
    "       I2 = importances(rf2, X_valid2, y_valid) # recompute since collinear\n",
    "       features = list(I2.index)\n",
    "       keep = features[0:int(len(features)*(1-drop))]\n",
    "\n",
    "   return min_rmsle, best_features\n"
   ]
  },
  {
   "cell_type": "code",
   "execution_count": 110,
   "metadata": {},
   "outputs": [
    {
     "name": "stdout",
     "output_type": "stream",
     "text": [
      "OOB R^2 0.92223 using 19,106,374 tree nodes 40.0 median tree height\n",
      "Validation R^2 0.84946, RMSLE 0.28051, MAE $6600\n",
      "\n",
      "Num features = 83\n",
      "OOB R^2 0.92227 using 19,102,790 tree nodes 41.0 median tree height\n",
      "Validation R^2 0.85072, RMSLE 0.27934, MAE $6562\n",
      "\n",
      "Num features = 74\n",
      "OOB R^2 0.92200 using 19,120,610 tree nodes 40.0 median tree height\n",
      "Validation R^2 0.84487, RMSLE 0.28475, MAE $6767\n",
      "\n",
      "Num features = 66\n",
      "OOB R^2 0.92191 using 19,081,424 tree nodes 41.0 median tree height\n",
      "Validation R^2 0.84722, RMSLE 0.28260, MAE $6692\n",
      "\n",
      "Num features = 59\n",
      "OOB R^2 0.92188 using 19,077,334 tree nodes 40.0 median tree height\n",
      "Validation R^2 0.84791, RMSLE 0.28196, MAE $6718\n",
      "\n",
      "Num features = 53\n",
      "OOB R^2 0.92189 using 19,031,906 tree nodes 40.0 median tree height\n",
      "Validation R^2 0.84868, RMSLE 0.28124, MAE $6746\n",
      "\n",
      "Num features = 47\n",
      "OOB R^2 0.92212 using 19,024,078 tree nodes 40.0 median tree height\n",
      "Validation R^2 0.84626, RMSLE 0.28348, MAE $6736\n",
      "\n",
      "Num features = 42\n",
      "OOB R^2 0.92189 using 18,942,216 tree nodes 40.0 median tree height\n",
      "Validation R^2 0.84618, RMSLE 0.28356, MAE $6806\n",
      "\n",
      "Num features = 37\n",
      "OOB R^2 0.92221 using 18,806,200 tree nodes 40.0 median tree height\n",
      "Validation R^2 0.84418, RMSLE 0.28539, MAE $6764\n",
      "\n",
      "Num features = 33\n",
      "OOB R^2 0.92188 using 18,417,910 tree nodes 40.0 median tree height\n",
      "Validation R^2 0.84583, RMSLE 0.28387, MAE $6813\n",
      "83 features is best:\n",
      "['ProductSize', 'fiProductClassSpec_lower', 'YearMade', 'fiProductClassSpec_upper', 'age', 'fiSecondaryDesc', 'Hydraulics_Flow_standard', 'Enclosure_erops ac', 'ModelID', 'fiBaseModel', 'fiModelDesc', 'fiProductClassSpec_units', 'fiModelDescriptor', 'YearMade_na', 'ProductGroupDesc', 'age_na', 'Enclosure_orops', 'state', 'Hydraulics', 'Engine_Horsepower', 'saleday', 'fiModelSeries', 'ProductGroup', 'Drive_System', 'MachineHoursCurrentMeter', 'saledayofyear', 'Ripper', 'datasource', 'auctioneerID', 'fiProductClassDesc', 'saledate', 'Transmission', 'fiProductClassSpec_upper_na', 'Enclosure_erops', 'fiProductClassSpec_lower_na', 'saledayofweek', 'salemonth', 'Differential_Type', 'UsageBand', 'Ride_Control', 'Steering_Controls', 'Track_Type', 'Grouser_Type', 'Tire_Size', 'Stick', 'Pushblock', 'Thumb', 'Blade_Width', 'Enclosure_Type', 'MachineHoursCurrentMeter_na', 'Blade_Type', 'Tire_Size_na', 'Pattern_Changer', 'Coupler', 'Scarifier', 'Travel_Controls', 'Forks', 'Stick_Length', 'Grouser_Tracks', 'Pad_Type', 'Undercarriage_Pad_Width', 'Coupler_System', 'Undercarriage_Pad_Width_na', 'Turbocharged', 'Hydraulics_Flow_high flow', 'saleyear', 'Enclosure_erops_na', 'Hydraulics_Flow_high flow_na', 'Hydraulics_Flow_standard_na', 'saledayofweek_na', 'Enclosure_erops ac_na', 'saledayofyear_na', 'Enclosure_orops_na', 'saleday_na', 'salemonth_na', 'saleyear_na', 'ProductSize_na', 'saledate_na', 'datasource_na', 'Backhoe_Mounting', 'ModelID_na', 'Blade_Extension', 'Tip_Control']\n"
     ]
    }
   ],
   "source": [
    "# find best features by importance and drop those not relevant\n",
    "\n",
    "min_rmsle, best_features = \\\n",
    "    select_features(X, y, X_valid, y_valid, drop=0.10)\n",
    "print(f\"{len(best_features)} features is best:\")\n",
    "print(best_features)\n"
   ]
  },
  {
   "cell_type": "code",
   "execution_count": 150,
   "metadata": {},
   "outputs": [],
   "source": [
    "df = feather.read_dataframe(\"data/bulldozer-train-all.feather\")\n",
    "df = df.query('saledate.dt.year>=2007').copy()\n",
    "X, y = df.drop('SalePrice', axis=1), df['SalePrice']\n",
    "y = np.log(y)\n",
    "clean(X)\n",
    "X, catencoders = feature_eng(X)\n",
    "medians = numericalize(X, catencoders)\n",
    "X = X[best_features]\n"
   ]
  },
  {
   "cell_type": "code",
   "execution_count": 158,
   "metadata": {},
   "outputs": [],
   "source": [
    "df_test = feather.read_dataframe(\"data/bulldozer-test.feather\")\n",
    "X_test, y_test = df_test.drop('SalePrice', axis=1), df_test['SalePrice']\n",
    "y_test = np.log(y_test)\n",
    "clean(X_test)\n",
    "X_test = feature_eng_test(X_test, catencoders)\n",
    "df_apply_cats(X_test, catencoders)\n",
    "df_fix_missing_test_nums(X_test, medians)\n",
    "df_cat_to_catcode(X_test)\n",
    "X_test = X_test[best_features]\n"
   ]
  },
  {
   "cell_type": "code",
   "execution_count": 165,
   "metadata": {},
   "outputs": [
    {
     "name": "stderr",
     "output_type": "stream",
     "text": [
      "/home/richard/anaconda3/lib/python3.7/site-packages/sklearn/linear_model/ridge.py:125: LinAlgWarning: scipy.linalg.solve\n",
      "Ill-conditioned matrix detected. Result is not guaranteed to be accurate.\n",
      "Reciprocal condition number1.420980e-39\n",
      "  overwrite_a=True).T\n"
     ]
    },
    {
     "name": "stdout",
     "output_type": "stream",
     "text": [
      "Validation R^2 0.66884, RMSLE 0.42264\n"
     ]
    }
   ],
   "source": [
    "# Looks like Ridge has the best validation score.\n",
    "# check vs test error\n",
    "#Ridge\n",
    "\n",
    "test_soln = pd.read_csv('data/do_not_open/test_soln.csv')\n",
    "test_soln = np.log(test_soln['SalePrice'])\n",
    "\n",
    "X_test = X_test.reindex(columns=X.columns)\n",
    "model = Ridge(alpha=0.5)\n",
    "model.fit(X, y)\n",
    "y_pred = model.predict(X_test)\n",
    "rmsle_test = np.sqrt( mean_squared_error(test_soln, y_pred) )\n",
    "r2_score_test = model.score(X_test, test_soln)\n",
    "print(f\"Validation R^2 {r2_train_baseline:.5f}, \"+\n",
    "      f\"RMSLE {rmsle_train_baseline:.5f}\")\n"
   ]
  },
  {
   "cell_type": "code",
   "execution_count": 166,
   "metadata": {},
   "outputs": [],
   "source": [
    "#Best score is .42 with Ridge regression\n",
    "\n",
    "#If Random Forest was allowed, it would be around .24"
   ]
  },
  {
   "cell_type": "code",
   "execution_count": null,
   "metadata": {},
   "outputs": [],
   "source": []
  }
 ],
 "metadata": {
  "kernelspec": {
   "display_name": "Python 3",
   "language": "python",
   "name": "python3"
  },
  "language_info": {
   "codemirror_mode": {
    "name": "ipython",
    "version": 3
   },
   "file_extension": ".py",
   "mimetype": "text/x-python",
   "name": "python",
   "nbconvert_exporter": "python",
   "pygments_lexer": "ipython3",
   "version": "3.7.1"
  }
 },
 "nbformat": 4,
 "nbformat_minor": 2
}
